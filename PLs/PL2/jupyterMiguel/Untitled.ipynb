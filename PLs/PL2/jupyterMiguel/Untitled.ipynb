{
 "cells": [
  {
   "cell_type": "code",
   "execution_count": 1,
   "id": "3a434729-d68d-40ef-92c3-df16b45a6690",
   "metadata": {},
   "outputs": [],
   "source": [
    "import pandas as pd"
   ]
  },
  {
   "cell_type": "code",
   "execution_count": 5,
   "id": "2214cfdc-b2ed-4d32-8810-fdd6addf7478",
   "metadata": {},
   "outputs": [
    {
     "data": {
      "text/plain": [
       "0    1.3970\n",
       "1    1.3938\n",
       "2    1.3869\n",
       "3    1.4008\n",
       "4    1.4047\n",
       "5    1.4146\n",
       "6    1.4054\n",
       "7    1.3829\n",
       "Name: V1, dtype: float64"
      ]
     },
     "execution_count": 5,
     "metadata": {},
     "output_type": "execute_result"
    }
   ],
   "source": [
    "parteA = pd.read_csv('parteA.csv', delimiter=\"\\t\")\n",
    "parteB = pd.read_csv('parteB.csv', delimiter=\"\\t\")\n",
    "\n",
    "parteA['V1']"
   ]
  },
  {
   "cell_type": "code",
   "execution_count": null,
   "id": "dfa2d88b-9eaf-4a6b-abb6-53ffbaccfa80",
   "metadata": {},
   "outputs": [],
   "source": []
  }
 ],
 "metadata": {
  "kernelspec": {
   "display_name": "Python 3 (ipykernel)",
   "language": "python",
   "name": "python3"
  },
  "language_info": {
   "codemirror_mode": {
    "name": "ipython",
    "version": 3
   },
   "file_extension": ".py",
   "mimetype": "text/x-python",
   "name": "python",
   "nbconvert_exporter": "python",
   "pygments_lexer": "ipython3",
   "version": "3.13.5"
  }
 },
 "nbformat": 4,
 "nbformat_minor": 5
}
