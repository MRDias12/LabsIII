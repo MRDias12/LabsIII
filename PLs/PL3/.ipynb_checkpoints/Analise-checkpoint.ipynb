{
 "cells": [
  {
   "cell_type": "code",
   "execution_count": 1,
   "id": "ec801131-b747-49b7-b4b3-84bd69e35900",
   "metadata": {},
   "outputs": [],
   "source": [
    "import numpy as np\n",
    "import matplotlib.pyplot as plt\n",
    "import pandas as pd\n",
    "from scipy.optimize import curve_fit"
   ]
  },
  {
   "cell_type": "code",
   "execution_count": 22,
   "id": "2076c787-f844-4c1f-8272-ee4451e4d8d9",
   "metadata": {},
   "outputs": [],
   "source": [
    "lam0 = 632.8e-9   # lambda 0\n",
    "n_ar = 1.00029   \n",
    "h = 5.5e-3\n",
    "\n",
    "def n_v(theta, N):\n",
    "    #dás 1 listas de theta e outra N e dá-te a lista dos n_v's correspondentes\n",
    "    \n",
    "    num = h*n_ar**2*np.sin(theta)**2\n",
    "    deno = h*n_ar*np.sin(theta)**2 - N*lam0\n",
    "    \n",
    "    return num/deno\n",
    "\n",
    "def media(lista):\n",
    "    return np.sum(lista)/len(lista)\n",
    "\n",
    "def desvp(lista):\n",
    "    mean = media(lista)\n",
    "    dif = lista-mean\n",
    "    N = len(lista)\n",
    "    vari = np.sum((dif)**2)/(N-1)\n",
    "    print(vari)\n",
    "    return np.sqrt(vari)\n",
    "\n",
    "def estatisticas(lista, t_factor):\n",
    "    #lembrar distribuiçao de t student para ajustar a media\n",
    "    mean = media(lista)\n",
    "    desviopadrao = desvp(lista)\n",
    "    confianca = t_factor *desviopadrao/np.sqrt(len(lista))\n",
    "    return mean, desviopadrao\n",
    "    "
   ]
  },
  {
   "cell_type": "code",
   "execution_count": 18,
   "id": "964c61d7-1f66-471f-b6ca-87288cd00164",
   "metadata": {},
   "outputs": [
    {
     "data": {
      "text/plain": [
       "array([1.00045252, 1.00056838, 1.01792757])"
      ]
     },
     "execution_count": 18,
     "metadata": {},
     "output_type": "execute_result"
    }
   ],
   "source": [
    "a = np.array([1,2,3])\n",
    "n_v(a,a)"
   ]
  },
  {
   "cell_type": "code",
   "execution_count": 21,
   "id": "74914cb3-bcff-427a-a301-2c2cbd6cdacd",
   "metadata": {},
   "outputs": [
    {
     "data": {
      "text/plain": [
       "np.float64(1.017927572072346)"
      ]
     },
     "execution_count": 21,
     "metadata": {},
     "output_type": "execute_result"
    }
   ],
   "source": []
  },
  {
   "cell_type": "code",
   "execution_count": null,
   "id": "521d7d16-7063-43ca-8001-339524c113b4",
   "metadata": {},
   "outputs": [],
   "source": []
  }
 ],
 "metadata": {
  "kernelspec": {
   "display_name": "Python 3 (ipykernel)",
   "language": "python",
   "name": "python3"
  },
  "language_info": {
   "codemirror_mode": {
    "name": "ipython",
    "version": 3
   },
   "file_extension": ".py",
   "mimetype": "text/x-python",
   "name": "python",
   "nbconvert_exporter": "python",
   "pygments_lexer": "ipython3",
   "version": "3.13.3"
  }
 },
 "nbformat": 4,
 "nbformat_minor": 5
}
