{
 "cells": [
  {
   "cell_type": "code",
   "execution_count": 21,
   "id": "ec801131-b747-49b7-b4b3-84bd69e35900",
   "metadata": {},
   "outputs": [],
   "source": [
    "import numpy as np\n",
    "import matplotlib.pyplot as plt\n",
    "import pandas as pd\n",
    "from scipy.optimize import curve_fit"
   ]
  },
  {
   "cell_type": "code",
   "execution_count": 32,
   "id": "2076c787-f844-4c1f-8272-ee4451e4d8d9",
   "metadata": {},
   "outputs": [],
   "source": [
    "lamb0 = 632.8e-9   # lambda 0\n",
    "nar = 1.00029   \n",
    "h = 5.5e-3\n",
    "\n",
    "def n_vfunc(theta, N):\n",
    "    #dás 1 listas de theta em graus e outra N e dá-te a lista dos n_v's correspondentes\n",
    "    #theta = theta*np.pi/180\n",
    "    #mudei a tua função para receber radianos pq me facilitiva nas incertezas\n",
    "    num = h*nar**2*(np.sin(theta))**2\n",
    "    deno = h*nar*(np.sin(theta))**2 - N*lamb0\n",
    "    \n",
    "    return num/deno\n",
    "\n",
    "def media(lista):\n",
    "    return np.sum(lista)/len(lista)\n",
    "\n",
    "def desvp(lista):\n",
    "    mean = media(lista)\n",
    "    dif = lista-mean\n",
    "    N = len(lista)\n",
    "    vari = np.sum((dif)**2)/(N-1)\n",
    "    return np.sqrt(vari)\n",
    "\n",
    "def estatisticas(lista, t_factor):\n",
    "    #lembrar distribuiçao de t student para ajustar a media\n",
    "    mean = media(lista)\n",
    "    desviopadrao = desvp(lista)\n",
    "    confianca = t_factor *desviopadrao/np.sqrt(len(lista))\n",
    "    return mean, desviopadrao\n",
    "    "
   ]
  },
  {
   "cell_type": "markdown",
   "id": "5e8cff5c-eb11-4031-b1f0-0fe999a511c8",
   "metadata": {},
   "source": [
    "# Refração do ar\n",
    "\n",
    "Expressão a ser utilizada: \n",
    "\n",
    "#### $$ n_{ar} = \\frac{N \\lambda_0}{2 \\Delta d_N} $$\n",
    "\n",
    "Assume-se $\\lambda_0$ com incerteza $\\approx 0$ \\\n",
    "A incerteza de $N$ também (?)"
   ]
  },
  {
   "cell_type": "code",
   "execution_count": 23,
   "id": "5b5a4ddf-eb91-4330-9c78-3933734d048e",
   "metadata": {},
   "outputs": [
    {
     "name": "stdout",
     "output_type": "stream",
     "text": [
      "0.9840131963797865\n"
     ]
    },
    {
     "data": {
      "text/plain": [
       "array([0.99653543, 0.8871028 , 1.01248   , 0.98875   , 0.87888889,\n",
       "       0.98108527, 1.05466667, 0.99308029, 1.06352941])"
      ]
     },
     "execution_count": 23,
     "metadata": {},
     "output_type": "execute_result"
    }
   ],
   "source": [
    "refractionAir = pd.read_csv('refractionAir.csv', delimiter = '\\t')\n",
    "\n",
    "N = np.array(refractionAir['N'])\n",
    "d = np.array(refractionAir['D'])*1e-6 #micrometro\n",
    "\n",
    "\n",
    "dmean = np.mean(d)\n",
    "\n",
    "n_ar_list = N*lamb0 / (2*d)   #d já está em SI\n",
    "\n",
    "n_ar = np.mean(n_ar_list)\n",
    "print(n_ar)\n",
    "\n",
    "n_ar_list"
   ]
  },
  {
   "cell_type": "markdown",
   "id": "2fceff93-ab86-4526-97a0-641da2487037",
   "metadata": {},
   "source": [
    "Agora o cálculo das incertezas...\n",
    "\n",
    "A incerteza de $\\Delta d$ é metade da menor divisão da escala - 0.5 micrómetro\n",
    "\n",
    "Por propagação de incertezas, temos que\n",
    "#### $$u(n_{ar}) = \\frac{N \\lambda_0}{2 (\\Delta d_N)^2} u(\\Delta d_N)$$"
   ]
  },
  {
   "cell_type": "code",
   "execution_count": 24,
   "id": "521d7d16-7063-43ca-8001-339524c113b4",
   "metadata": {},
   "outputs": [
    {
     "name": "stdout",
     "output_type": "stream",
     "text": [
      "0.9840131963797865 incerteza de: 0.03870494533422429\n"
     ]
    }
   ],
   "source": [
    "u_deltad = 0.5e-6\n",
    "u_ar = N*lamb0 /  (2 * d**2) * u_deltad\n",
    "print(f\"{n_ar} incerteza de: {np.mean(u_ar)}\")"
   ]
  },
  {
   "cell_type": "code",
   "execution_count": 25,
   "id": "7e0e8cb4-b089-4f18-b01e-6b19fc852f03",
   "metadata": {},
   "outputs": [
    {
     "data": {
      "text/plain": [
       "array([0.03923368, 0.0414534 , 0.0404992 , 0.03862305, 0.03051698,\n",
       "       0.03802656, 0.03906173, 0.03624381, 0.04468611])"
      ]
     },
     "execution_count": 25,
     "metadata": {},
     "output_type": "execute_result"
    }
   ],
   "source": [
    "u_ar #multiplas coisas estavam mal, oq se passou contigo miguel, sou eu o gajo que se engana nas contas, não tu... Deixa-me ficar com esse fardo"
   ]
  },
  {
   "cell_type": "code",
   "execution_count": 26,
   "id": "d05b4670-58ae-4b56-853f-db1b3f7ac54f",
   "metadata": {},
   "outputs": [
    {
     "data": {
      "text/plain": [
       "np.float64(0.03887755230051996)"
      ]
     },
     "execution_count": 26,
     "metadata": {},
     "output_type": "execute_result"
    }
   ],
   "source": [
    "u_mean_ar = 1/len(n_ar_list)*np.sqrt(np.sum(u_ar**2)) * 3 #isto não é a media das incertezas, mas a incerteza da média ☝️🤓  \n",
    "#tem cobertura 3 porque somos fixes ig (não tem nada haver com o facto de que sem ter cobertura 3, não incluimos o valor real)\n",
    "u_mean_ar\n"
   ]
  },
  {
   "cell_type": "code",
   "execution_count": 27,
   "id": "ad5179d4-01a5-4216-92d9-098e69c387e0",
   "metadata": {},
   "outputs": [
    {
     "data": {
      "text/plain": [
       "np.float64(1.0228907486803065)"
      ]
     },
     "execution_count": 27,
     "metadata": {},
     "output_type": "execute_result"
    }
   ],
   "source": [
    "n_ar + u_mean_ar"
   ]
  },
  {
   "cell_type": "markdown",
   "id": "502054bf-e34f-4119-98aa-537a97498589",
   "metadata": {},
   "source": [
    "# Refração do vidro\n",
    "\n",
    "Expressão a ser utilizada: \n",
    "\n",
    "#### $$ n_{v | i,N(i)}  = \\frac{h n_a^2 \\sin^2(i)}{h n_a^2 \\sin^2(i) - N(i)\\lambda_0} $$\n",
    "#### Eu escrevi a fórmula 💞\n",
    "\n",
    "Assume-se $\\lambda_0$ com incerteza $\\approx 0$ \\\n",
    "A incerteza de $N$ também (?)"
   ]
  },
  {
   "cell_type": "code",
   "execution_count": 33,
   "id": "06b7f87c-5d25-42a1-9432-fc005f9f276d",
   "metadata": {},
   "outputs": [
    {
     "data": {
      "text/plain": [
       "0    1.724871\n",
       "1    1.839041\n",
       "2    1.724871\n",
       "3    1.679520\n",
       "4    1.727867\n",
       "5    1.775667\n",
       "6    1.724871\n",
       "dtype: float64"
      ]
     },
     "execution_count": 33,
     "metadata": {},
     "output_type": "execute_result"
    }
   ],
   "source": [
    "refractionGlass = pd.read_csv(\"refractionGlass.csv\", delimiter = \";\")\n",
    "\n",
    "Ng = refractionGlass[\"N\"]\n",
    "theta = refractionGlass[\"theta\"]\n",
    "i = theta * np.pi/180 #é theta mas em radianos\n",
    " \n",
    "n_v_list = n_vfunc(i, Ng)\n",
    "n_v_list"
   ]
  },
  {
   "cell_type": "code",
   "execution_count": 34,
   "id": "e97e03ea-231a-4e7d-b4cd-71a55dfb62b1",
   "metadata": {},
   "outputs": [
    {
     "data": {
      "text/plain": [
       "np.float64(1.7423869565840593)"
      ]
     },
     "execution_count": 34,
     "metadata": {},
     "output_type": "execute_result"
    }
   ],
   "source": [
    "n_v = np.mean(n_v_list)\n",
    "n_v"
   ]
  },
  {
   "attachments": {
    "e58ccc34-1966-4279-a973-70173f8bebce.png": {
     "image/png": "[encoded data removed]"
    }
   },
   "cell_type": "markdown",
   "id": "e81c3fa7-527d-4aab-9d32-ef4f6e15d2f4",
   "metadata": {},
   "source": [
    "Agora para a propagação de incertezas usou-se o matemática\n",
    "![imagem.png](attachment:e58ccc34-1966-4279-a973-70173f8bebce.png)"
   ]
  },
  {
   "cell_type": "code",
   "execution_count": 35,
   "id": "0a32525f-c489-4908-aec4-a1e0f24d1862",
   "metadata": {},
   "outputs": [],
   "source": [
    "def denom(i, h, N):\n",
    "    return h * nar**2 * np.sin(i)**2 - N*lamb0\n",
    "\n",
    "def Dnv_i(i, h, N):\n",
    "    return (-h * N* np.sin(2*i) * nar**2 * lamb0) / (denom(i,h,N)**2)\n",
    "\n",
    "def Dnv_h(i,h,N):\n",
    "    return (-N * np.sin(i)**2 * nar**2 * lamb0) / (denom(i,h,N)**2)\n",
    "\n",
    "def Dnv_N(i,h,N):\n",
    "    return (h * np.sin(i)**2 * nar**2 * lamb0) / (denom(i,h,N)**2)\n",
    "\n",
    "#yikes, espero que tenhas paciência para confirmar se isto está bem"
   ]
  },
  {
   "cell_type": "markdown",
   "id": "7e39a600-63e2-438b-9fc8-6cdf69d4c63f",
   "metadata": {},
   "source": [
    "Para cada ensaio a incerteza será dada pela fórmula usual"
   ]
  },
  {
   "cell_type": "code",
   "execution_count": 37,
   "id": "fb2c7b84-616f-4592-b62a-b7f443788b66",
   "metadata": {},
   "outputs": [
    {
     "data": {
      "text/plain": [
       "np.float64(0.13411571985330886)"
      ]
     },
     "execution_count": 37,
     "metadata": {},
     "output_type": "execute_result"
    }
   ],
   "source": [
    "u_h = 0.5e-3\n",
    "u_i = 0.1 * np.pi/180 #menor divisão da escala\n",
    "u_N = 1 #opa margem de erro 1, a contagem era lixada\n",
    "\n",
    "u_nv_list = np.sqrt(\n",
    "    (Dnv_i(i, h, Ng)*u_i)**2 + \n",
    "    (Dnv_h(i, h, Ng)*u_h)**2 +\n",
    "    (Dnv_N(i, h, Ng)*u_N)**2\n",
    ")\n",
    "\n",
    "np.mean(u_nv_list) #media das incertezas"
   ]
  },
  {
   "cell_type": "code",
   "execution_count": null,
   "id": "e96ae5d5-08ee-4984-bdd7-74ce0ff4fc20",
   "metadata": {},
   "outputs": [],
   "source": []
  },
  {
   "cell_type": "code",
   "execution_count": null,
   "id": "3b3f98db-7181-4869-a34f-dd612fb06588",
   "metadata": {},
   "outputs": [],
   "source": []
  }
 ],
 "metadata": {
  "kernelspec": {
   "display_name": "Python 3 (ipykernel)",
   "language": "python",
   "name": "python3"
  },
  "language_info": {
   "codemirror_mode": {
    "name": "ipython",
    "version": 3
   },
   "file_extension": ".py",
   "mimetype": "text/x-python",
   "name": "python",
   "nbconvert_exporter": "python",
   "pygments_lexer": "ipython3",
   "version": "3.13.5"
  }
 },
 "nbformat": 4,
 "nbformat_minor": 5
}
