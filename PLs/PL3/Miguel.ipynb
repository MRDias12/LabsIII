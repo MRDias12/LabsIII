{
 "cells": [
  {
   "cell_type": "code",
   "execution_count": 1,
   "id": "f7a255a5-a559-4997-afd3-d284bf21fc18",
   "metadata": {},
   "outputs": [],
   "source": [
    "###### import numpy as np\n",
    "import matplotlib.pyplot as plt\n",
    "import pandas as pd\n",
    "from scipy.optimize import curve_fit\n",
    "import numpy as np"
   ]
  },
  {
   "cell_type": "code",
   "execution_count": 2,
   "id": "2076c787-f844-4c1f-8272-ee4451e4d8d9",
   "metadata": {},
   "outputs": [],
   "source": [
    "lamb0 = 632.8e-9   # lambda 0\n",
    "nar = 1.00029   \n",
    "h = 5.5e-3\n",
    "\n",
    "def n_vfunc(theta, N):\n",
    "    #dás 1 listas de theta em graus e outra N e dá-te a lista dos n_v's correspondentes\n",
    "    theta = theta*np.pi/180\n",
    "    num = h*nar**2*(np.sin(theta))**2\n",
    "    deno = h*nar*(np.sin(theta))**2 - N*lamb0\n",
    "    \n",
    "    return num/deno\n",
    "\n",
    "def media(lista):\n",
    "    return np.sum(lista)/len(lista)\n",
    "\n",
    "def desvp(lista):\n",
    "    mean = media(lista)\n",
    "    dif = lista-mean\n",
    "    N = len(lista)\n",
    "    vari = np.sum((dif)**2)/(N-1)\n",
    "    return np.sqrt(vari)\n",
    "\n",
    "def estatisticas(lista, t_factor):\n",
    "    #lembrar distribuiçao de t student para ajustar a media\n",
    "    mean = media(lista)\n",
    "    desviopadrao = desvp(lista)\n",
    "    confianca = t_factor *desviopadrao/np.sqrt(len(lista))\n",
    "    return mean, desviopadrao\n",
    "    "
   ]
  },
  {
   "cell_type": "markdown",
   "id": "5e8cff5c-eb11-4031-b1f0-0fe999a511c8",
   "metadata": {},
   "source": [
    "# Refração do ar\n",
    "\n",
    "Expressão a ser utilizada: \n",
    "\n",
    "#### $$ n_{ar} = \\frac{N \\lambda_0}{2 \\Delta d_N} $$\n",
    "\n",
    "Assume-se $\\lambda_0$ com incerteza $\\approx 0$ \\\n",
    "A incerteza de $N$ também (?)"
   ]
  },
  {
   "cell_type": "code",
   "execution_count": 3,
   "id": "5b5a4ddf-eb91-4330-9c78-3933734d048e",
   "metadata": {},
   "outputs": [
    {
     "name": "stdout",
     "output_type": "stream",
     "text": [
      "0.9840131963797865\n"
     ]
    },
    {
     "data": {
      "text/plain": [
       "array([0.99653543, 0.8871028 , 1.01248   , 0.98875   , 0.87888889,\n",
       "       0.98108527, 1.05466667, 0.99308029, 1.06352941])"
      ]
     },
     "execution_count": 3,
     "metadata": {},
     "output_type": "execute_result"
    }
   ],
   "source": [
    "refractionAir = pd.read_csv('refractionAir.csv', delimiter = '\\t')\n",
    "\n",
    "N = np.array(refractionAir['N'])\n",
    "d = np.array(refractionAir['D'])*1e-6 #micrometro\n",
    "\n",
    "\n",
    "dmean = np.mean(d)\n",
    "\n",
    "n_ar_list = N*lamb0 / (2*d)   #d já está em SI\n",
    "\n",
    "n_ar = np.mean(n_ar_list)\n",
    "print(n_ar)\n",
    "\n",
    "n_ar_list"
   ]
  },
  {
   "cell_type": "markdown",
   "id": "2fceff93-ab86-4526-97a0-641da2487037",
   "metadata": {},
   "source": [
    "Agora o cálculo das incertezas...\n",
    "\n",
    "A incerteza de $\\Delta d$ é metade da menor divisão da escala - 0.5 micrómetro\n",
    "\n",
    "Por propagação de incertezas, temos que\n",
    "#### $$u(n_{ar}) = \\frac{N \\lambda_0}{2 (\\Delta d_N)^2} u(\\Delta d_N)$$"
   ]
  },
  {
   "cell_type": "code",
   "execution_count": 4,
   "id": "521d7d16-7063-43ca-8001-339524c113b4",
   "metadata": {},
   "outputs": [
    {
     "name": "stdout",
     "output_type": "stream",
     "text": [
      "0.9840131963797865 incerteza de: 0.03870494533422429\n",
      "[0.03923368 0.0414534  0.0404992  0.03862305 0.03051698 0.03802656\n",
      " 0.03906173 0.03624381 0.04468611]\n"
     ]
    }
   ],
   "source": [
    "u_deltad = 0.5e-6\n",
    "u_ar_list = N*lamb0 /  (2 * d**2) * u_deltad\n",
    "\n",
    "u_ar = np.mean(u_ar_list)\n",
    "print(f\"{n_ar} incerteza de: {np.mean(u_ar)}\")\n",
    "\n",
    "print(u_ar_list)"
   ]
  },
  {
   "cell_type": "code",
   "execution_count": 5,
   "id": "7e0e8cb4-b089-4f18-b01e-6b19fc852f03",
   "metadata": {},
   "outputs": [
    {
     "data": {
      "text/plain": [
       "np.float64(0.03870494533422429)"
      ]
     },
     "execution_count": 5,
     "metadata": {},
     "output_type": "execute_result"
    }
   ],
   "source": [
    "u_ar #multiplas coisas estavam mal, oq se passou contigo miguel, sou eu o gajo que se engana nas contas, não tu... Deixa-me ficar com esse fardo"
   ]
  },
  {
   "cell_type": "code",
   "execution_count": 6,
   "id": "d05b4670-58ae-4b56-853f-db1b3f7ac54f",
   "metadata": {},
   "outputs": [
    {
     "data": {
      "text/plain": [
       "np.float64(0.01290164844474143)"
      ]
     },
     "execution_count": 6,
     "metadata": {},
     "output_type": "execute_result"
    }
   ],
   "source": [
    "u_mean_ar = 1/len(n_ar_list)*np.sqrt(np.sum(u_ar**2)) * 3 #isto não é a media das incertezas, mas a incerteza da média ☝️🤓  \n",
    "#tem cobertura 3 porque somos fixes ig (não tem nada haver com o facto de que sem ter cobertura 3, não incluimos o valor real)\n",
    "u_mean_ar\n"
   ]
  },
  {
   "cell_type": "code",
   "execution_count": 7,
   "id": "ad5179d4-01a5-4216-92d9-098e69c387e0",
   "metadata": {},
   "outputs": [
    {
     "data": {
      "text/plain": [
       "np.float64(0.9969148448245279)"
      ]
     },
     "execution_count": 7,
     "metadata": {},
     "output_type": "execute_result"
    }
   ],
   "source": [
    "n_ar + u_mean_ar"
   ]
  },
  {
   "cell_type": "markdown",
   "id": "502054bf-e34f-4119-98aa-537a97498589",
   "metadata": {},
   "source": [
    "# Refração do vidro\n",
    "\n",
    "Expressão a ser utilizada: \n",
    "\n",
    "#### $$não \\space vou \\space passar \\space aquela \\space treta\\space  para\\space aqui $$\n",
    "\n",
    "Assume-se $\\lambda_0$ com incerteza $\\approx 0$ \\\n",
    "A incerteza de $N$ também (?)"
   ]
  },
  {
   "cell_type": "code",
   "execution_count": 8,
   "id": "06b7f87c-5d25-42a1-9432-fc005f9f276d",
   "metadata": {},
   "outputs": [
    {
     "data": {
      "text/plain": [
       "0    1.724871\n",
       "1    1.839041\n",
       "2    1.724871\n",
       "3    1.679520\n",
       "4    1.727867\n",
       "5    1.775667\n",
       "6    1.724871\n",
       "dtype: float64"
      ]
     },
     "execution_count": 8,
     "metadata": {},
     "output_type": "execute_result"
    }
   ],
   "source": [
    "refractionGlass = pd.read_csv(\"refractionGlass.csv\", delimiter = \";\")\n",
    "\n",
    "Ng = refractionGlass[\"N\"]\n",
    "theta = refractionGlass[\"theta\"]\n",
    "\n",
    "n_v_list = n_vfunc(theta, Ng)\n",
    "n_v_list"
   ]
  },
  {
   "cell_type": "code",
   "execution_count": 9,
   "id": "e97e03ea-231a-4e7d-b4cd-71a55dfb62b1",
   "metadata": {},
   "outputs": [
    {
     "data": {
      "text/plain": [
       "np.float64(1.7423869565840593)"
      ]
     },
     "execution_count": 9,
     "metadata": {},
     "output_type": "execute_result"
    }
   ],
   "source": [
    "n_v = np.mean(n_v_list)\n",
    "n_v"
   ]
  },
  {
   "cell_type": "code",
   "execution_count": null,
   "id": "70ef4311-678f-41ed-aa34-f858f0373169",
   "metadata": {},
   "outputs": [],
   "source": []
  },
  {
   "cell_type": "code",
   "execution_count": null,
   "id": "0a32525f-c489-4908-aec4-a1e0f24d1862",
   "metadata": {},
   "outputs": [],
   "source": []
  }
 ],
 "metadata": {
  "kernelspec": {
   "display_name": "Python 3 (ipykernel)",
   "language": "python",
   "name": "python3"
  },
  "language_info": {
   "codemirror_mode": {
    "name": "ipython",
    "version": 3
   },
   "file_extension": ".py",
   "mimetype": "text/x-python",
   "name": "python",
   "nbconvert_exporter": "python",
   "pygments_lexer": "ipython3",
   "version": "3.13.5"
  }
 },
 "nbformat": 4,
 "nbformat_minor": 5
}
