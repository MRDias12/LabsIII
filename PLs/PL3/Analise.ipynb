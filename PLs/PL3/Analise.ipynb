{
 "cells": [
  {
   "cell_type": "code",
   "execution_count": 1,
   "id": "ec801131-b747-49b7-b4b3-84bd69e35900",
   "metadata": {},
   "outputs": [],
   "source": [
    "import numpy as np\n",
    "import matplotlib.pyplot as plt\n",
    "import pandas as pd\n",
    "from scipy.optimize import curve_fit"
   ]
  },
  {
   "cell_type": "code",
   "execution_count": 2,
   "id": "2076c787-f844-4c1f-8272-ee4451e4d8d9",
   "metadata": {},
   "outputs": [],
   "source": [
    "lam0 = 632.8e-9   # lambda 0\n",
    "n_ar = 1.00029   \n",
    "h = 5.5e-3\n",
    "\n",
    "def n_v(theta, N):\n",
    "    #dás 1 listas de theta e outra N e dá-te a lista dos n_v's correspondentes\n",
    "    \n",
    "    num = h*n_ar**2*np.sin(theta)**2\n",
    "    deno = h*n_ar*np.sin(theta)**2 - N*lam0\n",
    "    \n",
    "    return num/deno\n",
    "\n",
    "def media(lista):\n",
    "    return np.sum(lista)/len(lista)\n",
    "\n",
    "def desvp(lista):\n",
    "    mean = media(lista)\n",
    "    dif = lista-mean\n",
    "    N = len(lista)\n",
    "    vari = np.sum((dif)**2)/(N-1)\n",
    "    print(vari)\n",
    "    return np.sqrt(vari)\n",
    "\n",
    "def estatisticas(lista, t_factor):\n",
    "    #lembrar distribuiçao de t student para ajustar a media\n",
    "    mean = media(lista)\n",
    "    desviopadrao = desvp(lista)\n",
    "    confianca = t_factor *desviopadrao/np.sqrt(len(lista))\n",
    "    return mean, desviopadrao\n",
    "    "
   ]
  },
  {
   "cell_type": "code",
   "execution_count": 3,
   "id": "964c61d7-1f66-471f-b6ca-87288cd00164",
   "metadata": {},
   "outputs": [
    {
     "data": {
      "text/plain": [
       "array([1.00045252, 1.00056838, 1.01792757])"
      ]
     },
     "execution_count": 3,
     "metadata": {},
     "output_type": "execute_result"
    }
   ],
   "source": [
    "a = np.array([1,2,3])\n",
    "n_v(a,a)"
   ]
  },
  {
   "cell_type": "markdown",
   "id": "5e8cff5c-eb11-4031-b1f0-0fe999a511c8",
   "metadata": {},
   "source": [
    "# Refração do ar\n",
    "\n",
    "Expressão a ser utilizada: \n",
    "\n",
    "#### $$ n_{ar} = \\frac{N \\lambda_0}{2 \\Delta d_N} $$\n",
    "\n",
    "Assume-se $\\lambda_0$ com incerteza $\\approx 0$ \\\n",
    "A incerteza de $N$ também (?)"
   ]
  },
  {
   "cell_type": "code",
   "execution_count": 17,
   "id": "5b5a4ddf-eb91-4330-9c78-3933734d048e",
   "metadata": {},
   "outputs": [
    {
     "name": "stdout",
     "output_type": "stream",
     "text": [
      "0.9840131963797865\n"
     ]
    }
   ],
   "source": [
    "refractionAir = pd.read_csv('refractionAir.csv', delimiter = '\\t')\n",
    "\n",
    "N = np.array(refractionAir['N'])\n",
    "d = np.array(refractionAir['D']) #micrometro\n",
    "\n",
    "lambda0 = 632.8 #nm\n",
    "dmean = np.mean(d)\n",
    "\n",
    "n_ar_list = N*lambda0 / (2e3 * d)\n",
    "\n",
    "n_ar = np.mean(n_ar)\n",
    "print(n_ar)"
   ]
  },
  {
   "cell_type": "markdown",
   "id": "2fceff93-ab86-4526-97a0-641da2487037",
   "metadata": {},
   "source": [
    "Agora o cálculo das incertezas...\n",
    "\n",
    "A incerteza de $\\Delta d$ é metade da menor divisão da escala - 0.5 micrómetro\n",
    "\n",
    "Por propagação de incertezas, temos que\n",
    "#### $$u(n_{ar})^2 = (\\frac{N \\lambda_0}{2 (\\Delta d_N)^2})^2 u(\\Delta d_N)^2$$"
   ]
  },
  {
   "cell_type": "code",
   "execution_count": 20,
   "id": "521d7d16-7063-43ca-8001-339524c113b4",
   "metadata": {},
   "outputs": [
    {
     "name": "stdout",
     "output_type": "stream",
     "text": [
      "0.9840131963797865 incerteza de: 3.8704945334224286e-08\n"
     ]
    }
   ],
   "source": [
    "u_ar = N*lambda0 / (2e3 * (d**2)) * 0.5e-6\n",
    "print(f\"{n_ar} incerteza de: {np.mean(u_ar)}\")"
   ]
  },
  {
   "cell_type": "code",
   "execution_count": 22,
   "id": "7e0e8cb4-b089-4f18-b01e-6b19fc852f03",
   "metadata": {},
   "outputs": [
    {
     "data": {
      "text/plain": [
       "array([3.92336785e-08, 4.14534020e-08, 4.04992000e-08, 3.86230469e-08,\n",
       "       3.05169753e-08, 3.80265609e-08, 3.90617284e-08, 3.62438063e-08,\n",
       "       4.46861097e-08])"
      ]
     },
     "execution_count": 22,
     "metadata": {},
     "output_type": "execute_result"
    }
   ],
   "source": [
    "u_ar #algo está mal pah, deve ser das unidades"
   ]
  },
  {
   "cell_type": "code",
   "execution_count": null,
   "id": "d05b4670-58ae-4b56-853f-db1b3f7ac54f",
   "metadata": {},
   "outputs": [],
   "source": []
  }
 ],
 "metadata": {
  "kernelspec": {
   "display_name": "Python 3 (ipykernel)",
   "language": "python",
   "name": "python3"
  },
  "language_info": {
   "codemirror_mode": {
    "name": "ipython",
    "version": 3
   },
   "file_extension": ".py",
   "mimetype": "text/x-python",
   "name": "python",
   "nbconvert_exporter": "python",
   "pygments_lexer": "ipython3",
   "version": "3.13.5"
  }
 },
 "nbformat": 4,
 "nbformat_minor": 5
}
